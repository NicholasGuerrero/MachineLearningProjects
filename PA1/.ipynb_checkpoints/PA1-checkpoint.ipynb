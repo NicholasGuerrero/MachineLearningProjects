{
 "cells": [
  {
   "cell_type": "markdown",
   "metadata": {
    "id": "qTorIDyxp9PA"
   },
   "source": [
    "# **Decision Tree Classification: 50 Points**"
   ]
  },
  {
   "cell_type": "markdown",
   "metadata": {
    "id": "c7UQXxqk_mIp"
   },
   "source": [
    "Decision Trees (DTs) are a non-parametric supervised learning method used for classification and regression. The goal is to create a model that predicts the value of a target variable by learning simple decision rules inferred from the data features. A tree can be seen as a piecewise constant approximation."
   ]
  },
  {
   "cell_type": "markdown",
   "metadata": {
    "id": "6FmlIiAi__u1"
   },
   "source": [
    "**STEP 1: Importing all the required libraries.**"
   ]
  },
  {
   "cell_type": "code",
   "execution_count": null,
   "metadata": {
    "id": "2CQFMu_co3uB"
   },
   "outputs": [],
   "source": [
    "# Libraries for data analysis\n",
    "import numpy as np # For large multi-dimensional array and matrix processing\n",
    "import pandas as pd # For data extraction and preparation\n",
    "\n",
    "#The sklearn.tree module includes decision tree-based models for classification and regression.\n",
    "from sklearn import tree\n",
    "\n",
    "# Libraries for displaying results and analysis\n",
    "from sklearn.model_selection import train_test_split\n",
    "from sklearn.metrics import confusion_matrix, accuracy_score, ConfusionMatrixDisplay"
   ]
  },
  {
   "cell_type": "markdown",
   "metadata": {
    "id": "Tw2IL1zjARue"
   },
   "source": [
    "**STEP 2: Importing Dataset**"
   ]
  },
  {
   "cell_type": "markdown",
   "metadata": {
    "id": "vcZC7VWpAVde"
   },
   "source": [
    "We are going to be using the wine toy dataset from SciKit Learn"
   ]
  },
  {
   "cell_type": "code",
   "execution_count": null,
   "metadata": {
    "id": "xZ8E5GxNteHV"
   },
   "outputs": [],
   "source": [
    "from sklearn.datasets import load_wine\n",
    "wine_data = load_wine()"
   ]
  },
  {
   "cell_type": "markdown",
   "metadata": {
    "id": "7H1o-aBUBNLC"
   },
   "source": [
    "You can optionally print the Description of the dataset for your reference."
   ]
  },
  {
   "cell_type": "code",
   "execution_count": null,
   "metadata": {
    "id": "Qn_6VEEHzNpd"
   },
   "outputs": [],
   "source": [
    "print(wine_data.data.shape)\n",
    "print(wine_data.target.shape)\n",
    "print(wine_data.DESCR)"
   ]
  },
  {
   "cell_type": "markdown",
   "metadata": {
    "id": "qOK9ShfyBbD0"
   },
   "source": [
    "**STEP 3: Split the Dataset (10 Points)**\n",
    "\n",
    "**TO DO:** Similar to the KNN Tutorial, split the given X and y data into X_train, X_test, y_train, y_test, using **test ratio of 0.3 and random_state = 0**."
   ]
  },
  {
   "cell_type": "code",
   "execution_count": null,
   "metadata": {
    "id": "Bk8v4pJ5vVEn"
   },
   "outputs": [],
   "source": [
    "X = wine_data.data\n",
    "y = wine_data.target\n",
    "\n",
    "##### Use numpy arrays ######\n",
    "X_train = None\n",
    "y_train = None\n",
    "X_test = None\n",
    "y_test = None\n",
    "\n",
    "##### INPUT CODE HERE (~1 line of code) ######\n",
    "\n",
    "\n",
    "\n",
    "##############################################\n",
    "\n",
    "assert X_train.shape == (124,13)\n",
    "assert y_train.shape == (124,)\n",
    "assert X_test.shape == (54,13)\n",
    "assert y_test.shape == (54,)\n",
    "\n",
    "print(\"Size of training data= \", X_train.shape[0],\" Samples\")\n",
    "print(\"Size of testing data= \", X_test.shape[0],\" Samples\")\n"
   ]
  },
  {
   "cell_type": "markdown",
   "metadata": {
    "id": "LPip_B47Dza3"
   },
   "source": [
    "**STEP 4: Fit model to training data (10 Points)**\n",
    "\n",
    "**TO DO:** Create a Decision Tree object (named decision_tree) with random state 0 and max depth of 3. Fit the given decision tree to X_train and y_train data. You may use [this link](https://scikit-learn.org/stable/modules/generated/sklearn.tree.DecisionTreeClassifier.html#sklearn.tree.DecisionTreeClassifier.fit) for reference."
   ]
  },
  {
   "cell_type": "code",
   "execution_count": null,
   "metadata": {
    "id": "zrwrOMlj0Nkw"
   },
   "outputs": [],
   "source": [
    "decision_tree = None\n",
    "\n",
    "##### INPUT CODE HERE (~1 line of code) ######\n",
    "\n",
    "\n",
    "\n",
    "##############################################\n",
    "\n",
    "print(\"Simple Visualization of the tree you created:\")\n",
    "print(tree.export_text(decision_tree, feature_names=wine_data.feature_names))\n"
   ]
  },
  {
   "cell_type": "markdown",
   "metadata": {
    "id": "gmAT6f-qFSSF"
   },
   "source": [
    "**STEP 5: Testing the model (10 Points)**\n",
    "\n",
    "**TO DO:** Find target predictions by giving **X_test** input to your model and store them in **y_pred**. You may need [this link](https://scikit-learn.org/stable/modules/generated/sklearn.tree.DecisionTreeClassifier.html#sklearn.tree.DecisionTreeClassifier.predict) for reference."
   ]
  },
  {
   "cell_type": "code",
   "execution_count": null,
   "metadata": {
    "id": "HoXj0eqZDv-F"
   },
   "outputs": [],
   "source": [
    "y_pred = None\n",
    "\n",
    "##### INPUT CODE HERE (~1 line of code) ######\n",
    "\n",
    "\n",
    "\n",
    "##############################################"
   ]
  },
  {
   "cell_type": "markdown",
   "metadata": {
    "id": "ux7n7XZJF9VY"
   },
   "source": [
    "**STEP 6: Visualize the Results  (20 Points)**\n",
    "\n",
    "**TO DO:** Similar to the KNN Tutorial, plot confusion matrix, and accuracy of model predictions. Store accuracy in **acc** variable\n",
    "\n",
    "You may need the following references:\n",
    "\n",
    "[Confusion Matrix](https://scikit-learn.org/stable/modules/generated/sklearn.metrics.confusion_matrix.html)\n",
    "\n",
    "[Confusion Matrix Display](https://scikit-learn.org/stable/modules/generated/sklearn.metrics.ConfusionMatrixDisplay.html)\n",
    "\n",
    "[Accuracy](https://scikit-learn.org/stable/modules/generated/sklearn.metrics.accuracy_score.html)"
   ]
  },
  {
   "cell_type": "code",
   "execution_count": null,
   "metadata": {
    "id": "CSXyi0iYwuy6"
   },
   "outputs": [],
   "source": [
    "## Make sure to save your accuracy in the variable \"acc\"\n",
    "acc = 0\n",
    "##### INPUT CODE HERE (~4 line of code) ######\n",
    "# Make sure you plot the confusion matrix, i.e. once this code cell is run, it should output a 3X3 confusion matrix and accuracy #\n",
    "\n",
    "\n",
    "##############################################\n",
    "\n",
    "print('Accuracy of our model is equal to ' + str(round(acc, 2)) + ' %.')"
   ]
  },
  {
   "cell_type": "markdown",
   "metadata": {
    "id": "v3YuUi8ZHY9f"
   },
   "source": [
    "\n",
    "\n",
    "---\n",
    "\n"
   ]
  },
  {
   "cell_type": "markdown",
   "metadata": {
    "id": "uBbRybjU-xjE"
   },
   "source": [
    "# **Random Forest Regression: 40 Points**\n",
    "\n"
   ]
  },
  {
   "cell_type": "markdown",
   "metadata": {
    "id": "qGYwmGnGxn_u"
   },
   "source": [
    "Decision trees can also be applied to regression problems, using the DecisionTreeRegressor class.\n",
    "\n",
    "As in the classification setting, the fit method will take as argument arrays X and y, only that in this case y is expected to have floating point values instead of integer values:"
   ]
  },
  {
   "cell_type": "markdown",
   "metadata": {
    "id": "48r-OKiExtSw"
   },
   "source": [
    "**STEP 1: Importing all the required libraries.**"
   ]
  },
  {
   "cell_type": "code",
   "execution_count": null,
   "metadata": {
    "id": "9kE4RyoD-4-z"
   },
   "outputs": [],
   "source": [
    "#The sklearn.ensemble module includes the RandomForest algorithm.\n",
    "from sklearn.ensemble import RandomForestRegressor\n",
    "\n",
    "# Libraries for calculating evaluation metrics\n",
    "from sklearn.metrics import mean_squared_error"
   ]
  },
  {
   "cell_type": "markdown",
   "metadata": {
    "id": "las8qWOUHfh2"
   },
   "source": [
    "**STEP 2: Importing Dataset**\n",
    "\n",
    "We are going to be using the California Housing dataset.\n",
    "It contains 20640 samples with 8 dimensions to predict the value of a house.\n"
   ]
  },
  {
   "cell_type": "code",
   "execution_count": null,
   "metadata": {
    "id": "T8NUIU9Z_YE4"
   },
   "outputs": [],
   "source": [
    "from sklearn.datasets import fetch_california_housing\n",
    "\n",
    "housing_data = fetch_california_housing()"
   ]
  },
  {
   "cell_type": "markdown",
   "metadata": {
    "id": "njTHiuTYyOiO"
   },
   "source": [
    "You can optionally print the description and a few samples from the dataset for your reference."
   ]
  },
  {
   "cell_type": "code",
   "execution_count": null,
   "metadata": {
    "id": "-YduDpy8BsWD"
   },
   "outputs": [],
   "source": [
    "print(housing_data.keys())\n",
    "print(housing_data.data.shape)\n",
    "print(housing_data.DESCR)\n",
    "\n",
    "print(pd.DataFrame(housing_data.data)[:5])\n",
    "print(pd.DataFrame(housing_data.target)[:5])\n"
   ]
  },
  {
   "cell_type": "markdown",
   "metadata": {
    "id": "5sspyXSmy17q"
   },
   "source": [
    "**STEP 3: Split the Dataset (10 Points)**\n",
    "\n",
    "**TO DO:** Similar to the KNN Tutorial, split the given X and y data into X_train, X_test, y_train, y_test, using **test ratio of 0.3 and a random state of 0**."
   ]
  },
  {
   "cell_type": "code",
   "execution_count": null,
   "metadata": {
    "id": "FlcuTTiTy9Tk"
   },
   "outputs": [],
   "source": [
    "X = housing_data.data\n",
    "y = housing_data.target\n",
    "\n",
    "\n",
    "##### Use numpy arrays ######\n",
    "X_train = None\n",
    "y_train = None\n",
    "X_test = None\n",
    "y_test = None\n",
    "\n",
    "\n",
    "##### INPUT CODE HERE (~1 line of code) ######\n",
    "\n",
    "\n",
    "##############################################\n",
    "\n",
    "assert X_train.shape == (14448, 8)\n",
    "assert y_train.shape == (14448,)\n",
    "assert X_test.shape == (6192, 8)\n",
    "assert y_test.shape == (6192,)\n",
    "\n",
    "print(\"Size of training data= \", X_train.shape[0],\" Samples\")\n",
    "print(\"Size of testing data= \", X_test.shape[0],\" Samples\")\n"
   ]
  },
  {
   "cell_type": "markdown",
   "metadata": {
    "id": "z3WOEAy8zjln"
   },
   "source": [
    "**STEP 4: Fit model to training data (10 Points)**\n",
    "\n",
    "**TO DO:** Fit the given decision tree to X_train and y_train data. You may use [this link](https://scikit-learn.org/stable/modules/generated/sklearn.tree.DecisionTreeClassifier.html#sklearn.tree.DecisionTreeClassifier.fit) for reference."
   ]
  },
  {
   "cell_type": "code",
   "execution_count": null,
   "metadata": {
    "id": "pLKCjKwJzofY"
   },
   "outputs": [],
   "source": [
    "model = RandomForestRegressor()\n",
    "\n",
    "##### INPUT CODE HERE (~1 line of code) ######\n",
    "\n",
    "\n",
    "\n",
    "##############################################"
   ]
  },
  {
   "cell_type": "markdown",
   "metadata": {
    "id": "xvTNzrcr0j4x"
   },
   "source": [
    "**STEP 4: Try Predicting Values**\n",
    "\n",
    "**TO DO (optional) :** Change values of features to see changes in the predicted value of house"
   ]
  },
  {
   "cell_type": "code",
   "execution_count": null,
   "metadata": {
    "id": "9rIm-v6ZH0Ju"
   },
   "outputs": [],
   "source": [
    "# this is an example test case depicting how the prediction is done on a test data point.\n",
    "\n",
    "val1 = 8.3252\n",
    "val2 = 41.0\n",
    "val3 = 6.984127\n",
    "val4 = 1.023810\n",
    "val5 = 322.0\n",
    "val6 = 2.555556\n",
    "val7 = 37.88\n",
    "val8 = -122.23\n",
    "\n",
    "row = [[val1, val2, val3, val4, val5, val6, val7, val8]]\n",
    "\n",
    "# make a single prediction\n",
    "yhat = model.predict(row)\n",
    "\n",
    "print('House Value Prediction= $',yhat[0]*100000)"
   ]
  },
  {
   "cell_type": "markdown",
   "metadata": {
    "id": "RfzVPn0x437S"
   },
   "source": [
    "**STEP 5: Testing the model (10 Points)**\n",
    "\n",
    "**TO DO:** Find target predictions by giving **X_test** input to your model and store them in **y_pred**. You may need [this link](https://scikit-learn.org/stable/modules/generated/sklearn.tree.DecisionTreeClassifier.html#sklearn.tree.DecisionTreeClassifier.predict) for reference."
   ]
  },
  {
   "cell_type": "code",
   "execution_count": null,
   "metadata": {
    "id": "oHbnwEyt48Mr"
   },
   "outputs": [],
   "source": [
    "y_pred = None\n",
    "\n",
    "##### INPUT CODE HERE (~1 line of code) ######\n",
    "\n",
    "\n",
    "##############################################"
   ]
  },
  {
   "cell_type": "markdown",
   "metadata": {
    "id": "qqGiMHYC5FFu"
   },
   "source": [
    "**STEP 6: Visualize the Results (10 Points)**\n",
    "\n",
    "**TO DO:** Since this is not a classification task, we cannot plot confusion matrix. Instead we ask you to find the mean square error evaluated on all the testing data and store it in **mse**.\n",
    "\n",
    "You may need the following reference:\n",
    "\n",
    "[Mean Square Error](https://scikit-learn.org/stable/modules/generated/sklearn.metrics.mean_squared_error.html)\n"
   ]
  },
  {
   "cell_type": "code",
   "execution_count": null,
   "metadata": {
    "id": "sv-idAUX5Il-"
   },
   "outputs": [],
   "source": [
    "mse = None\n",
    "\n",
    "##### INPUT CODE HERE (~1 line of code) ######\n",
    "\n",
    "\n",
    "##############################################\n",
    "\n",
    "print(\"Mean Squared Error = \",mse)"
   ]
  },
  {
   "cell_type": "markdown",
   "metadata": {
    "id": "gjrWJNii6Noe"
   },
   "source": [
    "\n",
    "\n",
    "---\n",
    "\n"
   ]
  },
  {
   "cell_type": "markdown",
   "metadata": {
    "id": "rZ167Bw2d9wx"
   },
   "source": [
    "# **Hyperparameter Tuning**"
   ]
  },
  {
   "cell_type": "markdown",
   "metadata": {
    "id": "jKHA6-2_KTDh"
   },
   "source": [
    "**STEP 1: Hyperparameter Tuning (10 Points)**\n",
    "\n",
    "**TO DO:** Given the different range of the hyper parameters, tune them using grid search to get the value of these variables to get the best model is. Make sure the grid search is run for **5 rounds** of cross validation using **negative mean squared error**. \n"
   ]
  },
  {
   "cell_type": "code",
   "execution_count": null,
   "metadata": {
    "id": "-PZtUfovUgiQ"
   },
   "outputs": [],
   "source": [
    "from sklearn.model_selection import GridSearchCV"
   ]
  },
  {
   "cell_type": "code",
   "execution_count": null,
   "metadata": {
    "id": "YHFVGQB1Uf_n"
   },
   "outputs": [],
   "source": [
    "param_grid = [\n",
    "    {'n_estimators': [10, 50, 100], 'max_features': [4, 5, 6 ], 'max_depth': [6, 7, 8, 9]}\n",
    "]\n",
    "\n",
    "#Use Random Forests\n",
    "forest_reg = RandomForestRegressor()\n",
    "\n",
    "##############################################\n",
    "grid_search = None\n",
    "# Write the code for hyperparameter tuning using Grid Search for the above parameters\n",
    "# Carry out the grid search and fit the data on the above variable -> \"grid_search\"\n",
    "\n",
    "\n",
    "##############################################"
   ]
  },
  {
   "cell_type": "code",
   "execution_count": null,
   "metadata": {
    "id": "zKupJ2WmK180"
   },
   "outputs": [],
   "source": [
    "# Display the best parameter combination\n",
    "grid_search.best_params_"
   ]
  },
  {
   "cell_type": "markdown",
   "metadata": {
    "id": "GvDiveQuUVjX"
   },
   "source": [
    "# **FYI Only**\n",
    "# The below code is for you to learn more about Random Forest and will not be graded"
   ]
  },
  {
   "cell_type": "markdown",
   "metadata": {
    "id": "aciYVvHl6SXc"
   },
   "source": [
    "This section is for your information only. Simply run the code cells one by one.\n",
    "\n",
    "We will take a closer look at some of the hyperparameters you should consider tuning for the random forest ensemble and their effect on model performance.\n",
    "\n",
    "We select the hyperparameters that give us the lowest error rate or Mean Square Error in this case."
   ]
  },
  {
   "cell_type": "markdown",
   "metadata": {
    "id": "MORy4fvn6tLr"
   },
   "source": [
    "First we define a function to evaluate a model using the mean square error metric."
   ]
  },
  {
   "cell_type": "code",
   "execution_count": null,
   "metadata": {
    "id": "CZMltehuec4q"
   },
   "outputs": [],
   "source": [
    "def find_mse(model, X, y):\n",
    "\n",
    "  yhat = model.predict(X)\n",
    "  mse = mean_squared_error(y,yhat) \n",
    "\n",
    "  return mse"
   ]
  },
  {
   "cell_type": "markdown",
   "metadata": {
    "id": "U53kHMzd6-7l"
   },
   "source": [
    "Next we define a function to test out various models and plot how the Mean Square Error evolves with respect to the hyperparameter in question."
   ]
  },
  {
   "cell_type": "code",
   "execution_count": null,
   "metadata": {
    "id": "ttit1Xm4eqeP"
   },
   "outputs": [],
   "source": [
    "from matplotlib import pyplot\n",
    "\n",
    "def plot_tuning(models_dict,X_train,X_test,y_train,y_test):\n",
    "\n",
    "  results, names = list(), list()\n",
    "\n",
    "  for name, model in models_dict.items():\n",
    "\n",
    "    model.fit(X_train, y_train)\n",
    "    mse = find_mse(model, X_test, y_test)\n",
    "  \n",
    "    results.append(mse)\n",
    "    names.append(name)\n",
    "    print(\"Hyperparameter= \",name,\"; MSE = \",mse)\n",
    "\n",
    "\n",
    "    n = [float(i) for i in names]\n",
    "\n",
    "  pyplot.plot(n,results)\n",
    "  pyplot.ylabel('Mean Square Error')\n",
    "  pyplot.xlabel('Hyperparameter')\n",
    "  pyplot.show()"
   ]
  },
  {
   "cell_type": "markdown",
   "metadata": {
    "id": "-AbjOvTDeCGR"
   },
   "source": [
    "**Hyperparameter:** max_samples.\n",
    "\n",
    "The **max_samples** argument can be set to a float between 0 and 1 to control the percentage of the size of the training dataset to make the sample used to train each decision tree. **None** means that the entire training set will be used to train each tree."
   ]
  },
  {
   "cell_type": "code",
   "execution_count": null,
   "metadata": {
    "id": "QcEEhuLEYpZ1"
   },
   "outputs": [],
   "source": [
    "#Store various models into a dictionary of models\n",
    "models_dict = dict()\n",
    "for i in np.arange(0.1, 1.1, 0.1):\n",
    "  # set max_samples=None to use 100%\n",
    "  key = round(i,2)\n",
    "  if i == 1.0:\n",
    "    i = None\n",
    "  models_dict[key] = RandomForestRegressor(max_samples=i)\n",
    "  "
   ]
  },
  {
   "cell_type": "code",
   "execution_count": null,
   "metadata": {
    "colab": {
     "base_uri": "https://localhost:8080/",
     "height": 453
    },
    "executionInfo": {
     "elapsed": 58942,
     "status": "ok",
     "timestamp": 1652133172828,
     "user": {
      "displayName": "Gautam Pranjal",
      "userId": "15439701547736216241"
     },
     "user_tz": 420
    },
    "id": "3UkIwr82m4wF",
    "outputId": "66dd41d2-c3a4-4c5f-8f59-d88da0e2ce7f"
   },
   "outputs": [
    {
     "name": "stdout",
     "output_type": "stream",
     "text": [
      "Hyperparameter=  0.1 ; MSE =  0.3259652657150412\n",
      "Hyperparameter=  0.2 ; MSE =  0.30690557137574315\n",
      "Hyperparameter=  0.3 ; MSE =  0.29204010631612093\n",
      "Hyperparameter=  0.4 ; MSE =  0.286272087277434\n",
      "Hyperparameter=  0.5 ; MSE =  0.2806519965656537\n",
      "Hyperparameter=  0.6 ; MSE =  0.28322462994038544\n",
      "Hyperparameter=  0.7 ; MSE =  0.2765596980313517\n",
      "Hyperparameter=  0.8 ; MSE =  0.2778018645353497\n",
      "Hyperparameter=  0.9 ; MSE =  0.27665418268654635\n",
      "Hyperparameter=  1.0 ; MSE =  0.2734974065283267\n"
     ]
    },
    {
     "data": {
      "image/png": "[encoded data removed]",
      "text/plain": [
       "<Figure size 432x288 with 1 Axes>"
      ]
     },
     "metadata": {
      "needs_background": "light"
     },
     "output_type": "display_data"
    }
   ],
   "source": [
    "#Plot the MSE for all models in the dictionary\n",
    "plot_tuning(models_dict,X_train,X_test,y_train,y_test)"
   ]
  },
  {
   "cell_type": "markdown",
   "metadata": {
    "id": "U1TOelFJ9jXx"
   },
   "source": [
    "**Hyperparameter:** max_features.\n",
    "\n",
    "The number of features that is randomly sampled for each split point is perhaps the most important feature to configure for random forest."
   ]
  },
  {
   "cell_type": "code",
   "execution_count": null,
   "metadata": {
    "id": "V1TOiDTDgL7h"
   },
   "outputs": [],
   "source": [
    "#Store various models into a dictionary of models\n",
    "models_dict = dict()\n",
    "\n",
    "for i in range(1,8):\n",
    "  models_dict[str(i)] = RandomForestRegressor(max_features=i)\n"
   ]
  },
  {
   "cell_type": "code",
   "execution_count": null,
   "metadata": {
    "colab": {
     "base_uri": "https://localhost:8080/",
     "height": 401
    },
    "executionInfo": {
     "elapsed": 38460,
     "status": "ok",
     "timestamp": 1652133292217,
     "user": {
      "displayName": "Gautam Pranjal",
      "userId": "15439701547736216241"
     },
     "user_tz": 420
    },
    "id": "LSgMQgIfne3Q",
    "outputId": "16be4d49-6a36-44fe-fabf-3f0db5b73aa2"
   },
   "outputs": [
    {
     "name": "stdout",
     "output_type": "stream",
     "text": [
      "Hyperparameter=  1 ; MSE =  0.2865586812257966\n",
      "Hyperparameter=  2 ; MSE =  0.24910688025202163\n",
      "Hyperparameter=  3 ; MSE =  0.24944304923864297\n",
      "Hyperparameter=  4 ; MSE =  0.2540869861445937\n",
      "Hyperparameter=  5 ; MSE =  0.26347056453885054\n",
      "Hyperparameter=  6 ; MSE =  0.26772719300231723\n",
      "Hyperparameter=  7 ; MSE =  0.26981497974488927\n"
     ]
    },
    {
     "data": {
      "image/png": "[encoded data removed]",
      "text/plain": [
       "<Figure size 432x288 with 1 Axes>"
      ]
     },
     "metadata": {
      "needs_background": "light"
     },
     "output_type": "display_data"
    }
   ],
   "source": [
    "#Plot the MSE for all models in the dictionary\n",
    "plot_tuning(models_dict,X_train,X_test,y_train,y_test)"
   ]
  },
  {
   "cell_type": "markdown",
   "metadata": {
    "id": "2FEQHe7Y-Khh"
   },
   "source": [
    "**Hyperparameter:** n_estimators.\n",
    "\n",
    "Typically, the number of trees is increased until the model performance stabilizes. Intuition might suggest that more trees will lead to overfitting, although this is not the case."
   ]
  },
  {
   "cell_type": "code",
   "execution_count": null,
   "metadata": {
    "id": "TTblvr9xnh_0"
   },
   "outputs": [],
   "source": [
    "#Store various models into a dictionary of models\n",
    "models_dict = dict()\n",
    "\n",
    "n_trees = [10, 50, 100, 500, 1000]\n",
    "for n in n_trees:\n",
    "  models_dict[str(n)] = RandomForestRegressor(n_estimators=n)"
   ]
  },
  {
   "cell_type": "code",
   "execution_count": null,
   "metadata": {
    "colab": {
     "base_uri": "https://localhost:8080/",
     "height": 366
    },
    "executionInfo": {
     "elapsed": 155260,
     "status": "ok",
     "timestamp": 1652134336103,
     "user": {
      "displayName": "Gautam Pranjal",
      "userId": "15439701547736216241"
     },
     "user_tz": 420
    },
    "id": "FRLUXSYXoGeE",
    "outputId": "97156d31-5dd6-4b60-a533-6a29e6604749"
   },
   "outputs": [
    {
     "name": "stdout",
     "output_type": "stream",
     "text": [
      "Hyperparameter=  10 ; MSE =  0.29968748035990644\n",
      "Hyperparameter=  50 ; MSE =  0.2779698625716785\n",
      "Hyperparameter=  100 ; MSE =  0.2738768435819985\n",
      "Hyperparameter=  500 ; MSE =  0.2731771655871612\n",
      "Hyperparameter=  1000 ; MSE =  0.27166276118370025\n"
     ]
    },
    {
     "data": {
      "image/png": "[encoded data removed]",
      "text/plain": [
       "<Figure size 432x288 with 1 Axes>"
      ]
     },
     "metadata": {
      "needs_background": "light"
     },
     "output_type": "display_data"
    }
   ],
   "source": [
    "#Plot the MSE for all models in the dictionary\n",
    "plot_tuning(models_dict,X_train,X_test,y_train,y_test)"
   ]
  }
 ],
 "metadata": {
  "colab": {
   "collapsed_sections": [],
   "name": "PA1.ipynb",
   "provenance": []
  },
  "kernelspec": {
   "display_name": "Python 3",
   "language": "python",
   "name": "python3"
  },
  "language_info": {
   "codemirror_mode": {
    "name": "ipython",
    "version": 3
   },
   "file_extension": ".py",
   "mimetype": "text/x-python",
   "name": "python",
   "nbconvert_exporter": "python",
   "pygments_lexer": "ipython3",
   "version": "3.8.9"
  },
  "toc": {
   "base_numbering": 1,
   "nav_menu": {},
   "number_sections": true,
   "sideBar": true,
   "skip_h1_title": false,
   "title_cell": "Table of Contents",
   "title_sidebar": "Contents",
   "toc_cell": false,
   "toc_position": {},
   "toc_section_display": true,
   "toc_window_display": false
  },
  "varInspector": {
   "cols": {
    "lenName": 16,
    "lenType": 16,
    "lenVar": 40
   },
   "kernels_config": {
    "python": {
     "delete_cmd_postfix": "",
     "delete_cmd_prefix": "del ",
     "library": "var_list.py",
     "varRefreshCmd": "print(var_dic_list())"
    },
    "r": {
     "delete_cmd_postfix": ") ",
     "delete_cmd_prefix": "rm(",
     "library": "var_list.r",
     "varRefreshCmd": "cat(var_dic_list()) "
    }
   },
   "types_to_exclude": [
    "module",
    "function",
    "builtin_function_or_method",
    "instance",
    "_Feature"
   ],
   "window_display": false
  }
 },
 "nbformat": 4,
 "nbformat_minor": 1
}
